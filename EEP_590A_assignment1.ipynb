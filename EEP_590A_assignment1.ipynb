{
  "nbformat": 4,
  "nbformat_minor": 0,
  "metadata": {
    "colab": {
      "provenance": []
    },
    "kernelspec": {
      "name": "python3",
      "display_name": "Python 3"
    },
    "language_info": {
      "name": "python"
    }
  },
  "cells": [
    {
      "cell_type": "code",
      "execution_count": 1,
      "metadata": {
        "colab": {
          "base_uri": "https://localhost:8080/"
        },
        "id": "X19oO9SR8OFP",
        "outputId": "93f93d1a-998a-4a96-d2f2-47199ecfcd8b"
      },
      "outputs": [
        {
          "output_type": "stream",
          "name": "stdout",
          "text": [
            "Enter your name: Shao Rong Su\n",
            "Shao Rong Su\n"
          ]
        }
      ],
      "source": [
        "def myname(name):\n",
        "  if isinstance(name, str):\n",
        "    print(name)\n",
        "  else:\n",
        "    raise TypeError(\"Your name must be a string\")\n",
        "\n",
        "name = input(\"Enter your name: \")\n",
        "myname(name)"
      ]
    },
    {
      "cell_type": "code",
      "source": [],
      "metadata": {
        "id": "vCoSGm8V8h5B"
      },
      "execution_count": null,
      "outputs": []
    }
  ]
}